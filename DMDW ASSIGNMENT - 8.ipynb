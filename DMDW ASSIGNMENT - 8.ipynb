{
 "cells": [
  {
   "cell_type": "code",
   "execution_count": 1,
   "id": "fd9346a2",
   "metadata": {},
   "outputs": [
    {
     "name": "stdout",
     "output_type": "stream",
     "text": [
      "Predicted Class: Builder\n"
     ]
    }
   ],
   "source": [
    "import math\n",
    "\n",
    "def euclidean_distance(point1, point2):\n",
    "    distance = 0\n",
    "    for i in range(len(point1)):\n",
    "        distance += (point1[i] - point2[i]) ** 2\n",
    "    return math.sqrt(distance)\n",
    "def knn_classify(data, labels, new_point, k):\n",
    "    distances = []\n",
    "    for i in range(len(data)):\n",
    "        dist = euclidean_distance(data[i], new_point)\n",
    "        distances.append((dist, labels[i]))\n",
    "    distances.sort(key=lambda x: x[0])\n",
    "    neighbors = distances[:k]\n",
    "    class_counts = {}\n",
    "    for neighbor in neighbors:\n",
    "        _, label = neighbor\n",
    "        if label in class_counts:\n",
    "            class_counts[label] += 1\n",
    "        else:\n",
    "            class_counts[label] = 1\n",
    "    max_count = 0\n",
    "    predicted_class = None\n",
    "    for label, count in class_counts.items():\n",
    "        if count > max_count:\n",
    "            max_count = count\n",
    "            predicted_class = label\n",
    "    \n",
    "    return predicted_class\n",
    "data = [\n",
    "    [1.7, 65, 20],\n",
    "    [1.9, 85, 33],\n",
    "    [1.78, 76, 31],\n",
    "    [1.73, 74, 24],\n",
    "    [1.81, 75, 35],\n",
    "    [1.73, 70, 75],\n",
    "    [1.8, 71, 63],\n",
    "    [1.75, 69, 25]\n",
    "]\n",
    "\n",
    "labels = [\n",
    "    \"Programmer\",\n",
    "    \"Builder\",\n",
    "    \"Builder\",\n",
    "    \"Programmer\",\n",
    "    \"Builder\",\n",
    "    \"Scientist\",\n",
    "    \"Scientist\",\n",
    "    \"Programmer\"\n",
    "]\n",
    "\n",
    "new_point = [1.69, 79, 37]\n",
    "k = 3  \n",
    "predicted_class = knn_classify(data, labels, new_point, k)\n",
    "print(\"Predicted Class:\", predicted_class)"
   ]
  },
  {
   "cell_type": "code",
   "execution_count": null,
   "id": "e4a90903",
   "metadata": {},
   "outputs": [],
   "source": []
  }
 ],
 "metadata": {
  "kernelspec": {
   "display_name": "Python 3 (ipykernel)",
   "language": "python",
   "name": "python3"
  },
  "language_info": {
   "codemirror_mode": {
    "name": "ipython",
    "version": 3
   },
   "file_extension": ".py",
   "mimetype": "text/x-python",
   "name": "python",
   "nbconvert_exporter": "python",
   "pygments_lexer": "ipython3",
   "version": "3.11.3"
  }
 },
 "nbformat": 4,
 "nbformat_minor": 5
}
