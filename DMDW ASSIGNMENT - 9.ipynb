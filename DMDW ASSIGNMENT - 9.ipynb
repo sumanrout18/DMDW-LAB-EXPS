{
 "cells": [
  {
   "cell_type": "code",
   "execution_count": 2,
   "id": "9f283687",
   "metadata": {},
   "outputs": [
    {
     "ename": "TypeError",
     "evalue": "NaiveBayesClassifier() takes no arguments",
     "output_type": "error",
     "traceback": [
      "\u001b[1;31m---------------------------------------------------------------------------\u001b[0m",
      "\u001b[1;31mTypeError\u001b[0m                                 Traceback (most recent call last)",
      "Cell \u001b[1;32mIn[2], line 39\u001b[0m\n\u001b[0;32m     36\u001b[0m df \u001b[38;5;241m=\u001b[39m pd\u001b[38;5;241m.\u001b[39mread_csv(file_path)\n\u001b[0;32m     38\u001b[0m \u001b[38;5;66;03m# Create and train the Naive Bayes classifier\u001b[39;00m\n\u001b[1;32m---> 39\u001b[0m classifier \u001b[38;5;241m=\u001b[39m NaiveBayesClassifier(df)\n\u001b[0;32m     41\u001b[0m \u001b[38;5;66;03m# Make a prediction for the given conditions\u001b[39;00m\n\u001b[0;32m     42\u001b[0m prediction \u001b[38;5;241m=\u001b[39m classifier\u001b[38;5;241m.\u001b[39mpredict(\u001b[38;5;124m'\u001b[39m\u001b[38;5;124mrainy\u001b[39m\u001b[38;5;124m'\u001b[39m, \u001b[38;5;124m'\u001b[39m\u001b[38;5;124mhot\u001b[39m\u001b[38;5;124m'\u001b[39m, \u001b[38;5;124m'\u001b[39m\u001b[38;5;124mnormal\u001b[39m\u001b[38;5;124m'\u001b[39m, \u001b[38;5;28;01mTrue\u001b[39;00m)\n",
      "\u001b[1;31mTypeError\u001b[0m: NaiveBayesClassifier() takes no arguments"
     ]
    }
   ],
   "source": [
    "import pandas as pd\n",
    "\n",
    "class NaiveBayesClassifier:\n",
    "    def _init_(self, data):\n",
    "        self.data = data\n",
    "        self.classes = set(data['Play'].values)\n",
    "\n",
    "    def calculate_probability(self, attribute, value, given_class):\n",
    "        class_data = self.data[self.data['Play'] == given_class]\n",
    "        attribute_data = class_data[class_data[attribute] == value]\n",
    "        count_attribute_given_class = len(attribute_data)\n",
    "        count_class = len(class_data)\n",
    "        probability = count_attribute_given_class / count_class\n",
    "        return probability\n",
    "\n",
    "    def predict(self, Outlook, Temperature, Humidity, Windy):\n",
    "        probabilities = []\n",
    "\n",
    "        for given_class in self.classes:\n",
    "            # Calculate P(Outlook|Class) * P(Temp|Class) * P(Humidity|Class) * P(Windy|Class) * P(Class)\n",
    "            probability = (\n",
    "                self.calculate_probability('Outlook', Outlook, given_class) *\n",
    "                self.calculate_probability('Temperature', Temperature, given_class) *\n",
    "                self.calculate_probability('Humidity', Humidity, given_class) *\n",
    "                self.calculate_probability('Windy', Windy, given_class) *\n",
    "                len(self.data[self.data['Play'] == given_class]) / len(self.data)\n",
    "            )\n",
    "            probabilities.append((given_class, probability))\n",
    "\n",
    "        # Choose the class with the highest probability\n",
    "        result_class = max(probabilities, key=lambda x: x[1])[0]\n",
    "        return result_class\n",
    "\n",
    "# Read data from CSV file\n",
    "file_path = 'golf_df.csv'\n",
    "df = pd.read_csv(file_path)\n",
    "\n",
    "# Create and train the Naive Bayes classifier\n",
    "classifier = NaiveBayesClassifier(df)\n",
    "\n",
    "# Make a prediction for the given conditions\n",
    "prediction = classifier.predict('rainy', 'hot', 'normal', True)\n",
    "print(f\"The predicted class is: {prediction}\")"
   ]
  },
  {
   "cell_type": "code",
   "execution_count": null,
   "id": "c8a7d05b",
   "metadata": {},
   "outputs": [],
   "source": []
  }
 ],
 "metadata": {
  "kernelspec": {
   "display_name": "Python 3 (ipykernel)",
   "language": "python",
   "name": "python3"
  },
  "language_info": {
   "codemirror_mode": {
    "name": "ipython",
    "version": 3
   },
   "file_extension": ".py",
   "mimetype": "text/x-python",
   "name": "python",
   "nbconvert_exporter": "python",
   "pygments_lexer": "ipython3",
   "version": "3.11.3"
  }
 },
 "nbformat": 4,
 "nbformat_minor": 5
}
